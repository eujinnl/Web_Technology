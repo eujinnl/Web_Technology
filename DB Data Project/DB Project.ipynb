{
 "cells": [
  {
   "cell_type": "code",
   "execution_count": 1,
   "id": "tested-container",
   "metadata": {},
   "outputs": [],
   "source": [
    "import requests\n",
    "import numpy as np\n",
    "import pandas as pd\n",
    "#TASK: Make a pie chart on how accesible each station is"
   ]
  },
  {
   "cell_type": "code",
   "execution_count": 2,
   "id": "jewish-vector",
   "metadata": {},
   "outputs": [],
   "source": [
    "#api_url = \"https://apis.deutschebahn.com/db-api-marketplace/apis/timetables/v1\"\n",
    "def db_get(url,params = None):\n",
    "    api_key = \"6d680224d118a0784d34efe88550115e\"\n",
    "    client_id = \"d95e9f1c7c8f175d8b787361e851c33f\"\n",
    "    headers = {\n",
    "    'DB-Client-Id': client_id,\n",
    "    'DB-Api-Key': api_key,\n",
    "    'accept': \"application/json\"\n",
    "    } \n",
    "    \n",
    "    response = requests.get(url, headers = headers,params = params)\n",
    "    return response\n",
    "\n",
    "response = db_get(url = \"https://apis.deutschebahn.com/db-api-marketplace/apis/fasta/v2/facilities\")\n",
    "json_file = response.json()\n",
    "df = pd.DataFrame(json_file)"
   ]
  },
  {
   "cell_type": "code",
   "execution_count": 3,
   "id": "affecting-smith",
   "metadata": {},
   "outputs": [],
   "source": [
    "#print(df.loc[df['stationnumber'] == 626])\n",
    "#print(df)\n",
    "#print(json_file)"
   ]
  },
  {
   "cell_type": "code",
   "execution_count": 4,
   "id": "becoming-pursuit",
   "metadata": {},
   "outputs": [
    {
     "name": "stdout",
     "output_type": "stream",
     "text": [
      "{'facilities': [], 'name': 'Bienenmühle', 'stationnumber': 626}\n",
      "Empty DataFrame\n",
      "Columns: [description, equipmentnumber, geocoordX, geocoordY, operatorname, state, stateExplanation, stationnumber, type]\n",
      "Index: []\n"
     ]
    }
   ],
   "source": [
    "#Demonstration that some stations dont have facilities\n",
    "response = db_get(url = \"https://apis.deutschebahn.com/db-api-marketplace/apis/fasta/v2/stations/626\")\n",
    "print(response.json())\n",
    "print(df.loc [df['stationnumber'] == 626])"
   ]
  },
  {
   "cell_type": "code",
   "execution_count": 5,
   "id": "current-determination",
   "metadata": {},
   "outputs": [
    {
     "name": "stdout",
     "output_type": "stream",
     "text": [
      "Total number of stations with facilities: 1271\n"
     ]
    }
   ],
   "source": [
    "x = df['stationnumber']\n",
    "print(f\"Total number of stations with facilities: {len(set(x.values.tolist()))}\")"
   ]
  },
  {
   "cell_type": "code",
   "execution_count": 6,
   "id": "stuck-status",
   "metadata": {},
   "outputs": [],
   "source": [
    "# Excel file plucked out of the internet to calculate total amount of bahnhofs in germany. (approxiametely 5403 from january)\n",
    "# data available publicly here: https://www.deutschebahn.com/resource/blob/8889522/1d8184af7653d198d256ce2ce2403fae/Stationspreisliste-2023-data.pdf\n",
    "df2=pd.read_excel('Station_data.xlsx')\n",
    "selected = df2[['Bf-Nr','Bahnhof']]\n",
    "numbertobahn = dict(selected.to_dict('split')['data'])\n",
    "df['Bahnhof'] = df['stationnumber'].apply(lambda x: numbertobahn[x])"
   ]
  },
  {
   "cell_type": "code",
   "execution_count": 7,
   "id": "controlling-officer",
   "metadata": {},
   "outputs": [
    {
     "name": "stdout",
     "output_type": "stream",
     "text": [
      "Percentage of DB train stations with facilities: 0.23523968165833797\n"
     ]
    }
   ],
   "source": [
    "#x= total number of train stations with facilities(functioning w/ non-functioning)\n",
    "\n",
    "x = len(set(df['stationnumber'].values.tolist()))/len(numbertobahn)\n",
    "print(f\"Percentage of DB train stations with facilities: {x}\") #percentage of DB train stations with facilities"
   ]
  },
  {
   "cell_type": "code",
   "execution_count": 8,
   "id": "returning-cabin",
   "metadata": {},
   "outputs": [
    {
     "name": "stdout",
     "output_type": "stream",
     "text": [
      "List of facility operators: ['DB Station&Service' 'Stadt Chemnitz' 'Lauffen (Neckar)' 'Stadt Lauda'\n",
      " 'Eisbrecher_KONE' 'Bad Sobernheim' 'Eisbrecher_Schindler'\n",
      " 'Stadt Leverkusen' 'Stadt Soest' 'Stadt Werl']\n"
     ]
    }
   ],
   "source": [
    "x = df['operatorname'].unique()\n",
    "print(f\"List of facility operators: {x}\")"
   ]
  },
  {
   "cell_type": "code",
   "execution_count": 10,
   "id": "furnished-mainstream",
   "metadata": {},
   "outputs": [
    {
     "name": "stdout",
     "output_type": "stream",
     "text": [
      "Stadt Chemnitz Facilities: \n",
      "       operatorname   state  stationnumber      type       Bahnhof\n",
      "631  Stadt Chemnitz  ACTIVE           1040  ELEVATOR  Chemnitz Hbf\n",
      "633  Stadt Chemnitz  ACTIVE           1040  ELEVATOR  Chemnitz Hbf\n",
      "Lauffen (Neckar) Facilities: \n",
      "         operatorname   state  stationnumber      type           Bahnhof\n",
      "681  Lauffen (Neckar)  ACTIVE           3591  ELEVATOR  Lauffen (Neckar)\n",
      "Stadt Lauda Facilities: \n",
      "     operatorname   state  stationnumber      type Bahnhof\n",
      "1551  Stadt Lauda  ACTIVE           3576  ELEVATOR   Lauda\n",
      "Eisbrecher_KONE Facilities: \n",
      "         operatorname     state  stationnumber       type              Bahnhof\n",
      "1666  Eisbrecher_KONE    ACTIVE            569  ESCALATOR         Berliner Tor\n",
      "1668  Eisbrecher_KONE    ACTIVE            569  ESCALATOR         Berliner Tor\n",
      "3009  Eisbrecher_KONE  INACTIVE           6530  ESCALATOR  Wandsbeker Chaussee\n",
      "Bad Sobernheim Facilities: \n",
      "        operatorname   state  stationnumber      type         Bahnhof\n",
      "1894  Bad Sobernheim  ACTIVE           5875  ELEVATOR  Bad Sobernheim\n",
      "1895  Bad Sobernheim  ACTIVE           5875  ELEVATOR  Bad Sobernheim\n",
      "Eisbrecher_Schindler Facilities: \n",
      "              operatorname   state  stationnumber       type        Bahnhof\n",
      "2187  Eisbrecher_Schindler  ACTIVE           4345  ESCALATOR    Nettelnburg\n",
      "3141  Eisbrecher_Schindler  ACTIVE           6399  ESCALATOR         Veddel\n",
      "3143  Eisbrecher_Schindler  ACTIVE           4817  ESCALATOR    Othmarschen\n",
      "3144  Eisbrecher_Schindler  ACTIVE           4465  ESCALATOR  Neuwiedenthal\n",
      "3145  Eisbrecher_Schindler  ACTIVE            412  ESCALATOR        Barmbek\n",
      "Stadt Leverkusen Facilities: \n",
      "          operatorname    state  stationnumber      type  Bahnhof\n",
      "2200  Stadt Leverkusen  UNKNOWN           4770  ELEVATOR  Opladen\n",
      "Stadt Soest Facilities: \n",
      "     operatorname   state  stationnumber      type Bahnhof\n",
      "2202  Stadt Soest  ACTIVE           5876  ELEVATOR   Soest\n",
      "Stadt Werl Facilities: \n",
      "     operatorname   state  stationnumber      type Bahnhof\n",
      "2203   Stadt Werl  ACTIVE           6686  ELEVATOR    Werl\n"
     ]
    }
   ],
   "source": [
    "selected = df.loc[:, ~df.columns.isin(['geocoordX', 'geocoordY','description','equipmentnumber','stateExplanation'])]\n",
    "#Disabled columns for easier overview\n",
    "\n",
    "a = ['Stadt Chemnitz','Lauffen (Neckar)','Stadt Lauda','Eisbrecher_KONE','Bad Sobernheim','Eisbrecher_Schindler',\n",
    "     'Stadt Leverkusen','Stadt Soest','Stadt Werl']\n",
    "#a = selection of Stations\n",
    "for i in a:\n",
    "    print(f\"{i} Facilities: \\n{selected.loc[selected['operatorname'] == i]}\")"
   ]
  },
  {
   "cell_type": "code",
   "execution_count": 11,
   "id": "every-organic",
   "metadata": {},
   "outputs": [
    {
     "name": "stdout",
     "output_type": "stream",
     "text": [
      "Total types of facilies: ['ELEVATOR' 'ESCALATOR']\n",
      "Total number of ELEVATOR: 2570\n",
      "Total number of ESCALATOR: 981\n"
     ]
    }
   ],
   "source": [
    "x = df['type'].unique()\n",
    "print(f\"Total types of facilies: {x}\")\n",
    "\n",
    "for i in x:\n",
    "    print(f\"Total number of {i}: {len(selected.loc[selected['type'] == i])}\")"
   ]
  },
  {
   "cell_type": "code",
   "execution_count": 12,
   "id": "random-prospect",
   "metadata": {},
   "outputs": [
    {
     "name": "stdout",
     "output_type": "stream",
     "text": [
      "Total types of status: ['ACTIVE' 'INACTIVE' 'UNKNOWN']\n",
      "Total number of ACTIVE status facilities: 3127\n",
      "Total number of INACTIVE/UNKNOWN status facilities: 424\n"
     ]
    }
   ],
   "source": [
    "#Currently inactive or unknown status facilities\n",
    "print(f\"Total types of status: {df['state'].unique()}\")\n",
    "x = len(df.loc[df['state'] == 'ACTIVE'])\n",
    "print(f\"Total number of ACTIVE status facilities: {x}\")\n",
    "print(f\"Total number of INACTIVE/UNKNOWN status facilities: {len(df)-x}\")"
   ]
  },
  {
   "cell_type": "code",
   "execution_count": null,
   "id": "searching-column",
   "metadata": {},
   "outputs": [],
   "source": []
  }
 ],
 "metadata": {
  "kernelspec": {
   "display_name": "Python 3",
   "language": "python",
   "name": "python3"
  },
  "language_info": {
   "codemirror_mode": {
    "name": "ipython",
    "version": 3
   },
   "file_extension": ".py",
   "mimetype": "text/x-python",
   "name": "python",
   "nbconvert_exporter": "python",
   "pygments_lexer": "ipython3",
   "version": "3.9.0"
  }
 },
 "nbformat": 4,
 "nbformat_minor": 5
}
