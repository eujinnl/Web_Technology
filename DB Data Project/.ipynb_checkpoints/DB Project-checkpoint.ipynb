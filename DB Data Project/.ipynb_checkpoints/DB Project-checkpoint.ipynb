{
 "cells": [
  {
   "cell_type": "code",
   "execution_count": 1,
   "id": "tested-container",
   "metadata": {},
   "outputs": [],
   "source": [
    "import requests\n",
    "import pandas as pd\n",
    "#TASK: Make a pie chart on how accesible each station is"
   ]
  },
  {
   "cell_type": "code",
   "execution_count": 2,
   "id": "jewish-vector",
   "metadata": {},
   "outputs": [],
   "source": [
    "#api_url = \"https://apis.deutschebahn.com/db-api-marketplace/apis/timetables/v1\"\n",
    "def db_get(url,params = None):\n",
    "    api_key = \"6d680224d118a0784d34efe88550115e\"\n",
    "    client_id = \"d95e9f1c7c8f175d8b787361e851c33f\"\n",
    "    headers = {\n",
    "    'DB-Client-Id': client_id,\n",
    "    'DB-Api-Key': api_key,\n",
    "    'accept': \"application/json\"\n",
    "    } \n",
    "    \n",
    "    response = requests.get(url, headers = headers,params = params)\n",
    "    return response\n",
    "\n",
    "response = db_get(url = \"https://apis.deutschebahn.com/db-api-marketplace/apis/fasta/v2/facilities\")\n",
    "json_file = response.json()\n",
    "df = pd.DataFrame(json_file)"
   ]
  },
  {
   "cell_type": "code",
   "execution_count": 3,
   "id": "affecting-smith",
   "metadata": {},
   "outputs": [
    {
     "name": "stdout",
     "output_type": "stream",
     "text": [
      "                description  equipmentnumber  geocoordX  geocoordY  \\\n",
      "0                zu Gleis 1         10499641  14.671359  51.099399   \n",
      "1              zu Gleis 2/3         10499642  14.671325  51.099552   \n",
      "2                zu Gleis 2         10267599   9.500320  48.999396   \n",
      "3              zu Gleis 2/3         10097793   9.635192  52.298212   \n",
      "4                zu Gleis 1         10267598   9.500395  48.999558   \n",
      "...                     ...              ...        ...        ...   \n",
      "3546  zu Gleis 1/2 (S-Bahn)         10492536   9.171960  48.775320   \n",
      "3547  zu Gleis 1/2 (S-Bahn)         10618062  13.328721  52.534316   \n",
      "3548  zu Gleis 1/2 (S-Bahn)         10618061  13.343416  52.536165   \n",
      "3549             zu Gleis 1         10457321   9.760429  48.683289   \n",
      "3550           zu Gleis 2/3         10457320   9.760652  48.683426   \n",
      "\n",
      "            operatorname     state    stateExplanation  stationnumber  \\\n",
      "0     DB Station&Service    ACTIVE           available           3751   \n",
      "1     DB Station&Service    ACTIVE           available           3751   \n",
      "2     DB Station&Service    ACTIVE           available           6111   \n",
      "3     DB Station&Service    ACTIVE           available           6578   \n",
      "4     DB Station&Service  INACTIVE  under construction           6111   \n",
      "...                  ...       ...                 ...            ...   \n",
      "3546  DB Station&Service  INACTIVE  under construction           6085   \n",
      "3547  DB Station&Service  INACTIVE       not available           7726   \n",
      "3548  DB Station&Service    ACTIVE           available           7760   \n",
      "3549  DB Station&Service    ACTIVE           available           6127   \n",
      "3550  DB Station&Service    ACTIVE           available           6127   \n",
      "\n",
      "           type  \n",
      "0      ELEVATOR  \n",
      "1      ELEVATOR  \n",
      "2      ELEVATOR  \n",
      "3      ELEVATOR  \n",
      "4      ELEVATOR  \n",
      "...         ...  \n",
      "3546  ESCALATOR  \n",
      "3547   ELEVATOR  \n",
      "3548   ELEVATOR  \n",
      "3549   ELEVATOR  \n",
      "3550   ELEVATOR  \n",
      "\n",
      "[3551 rows x 9 columns]\n"
     ]
    }
   ],
   "source": [
    "#print(df.loc[df['stationnumber'] == 626])\n",
    "print(df)\n",
    "#print(json_file)"
   ]
  },
  {
   "cell_type": "code",
   "execution_count": 4,
   "id": "becoming-pursuit",
   "metadata": {},
   "outputs": [
    {
     "name": "stdout",
     "output_type": "stream",
     "text": [
      "{'facilities': [], 'name': 'Bienenmühle', 'stationnumber': 626}\n"
     ]
    }
   ],
   "source": [
    "response = db_get(url = \"https://apis.deutschebahn.com/db-api-marketplace/apis/fasta/v2/stations/626\")\n",
    "print(response.json())"
   ]
  },
  {
   "cell_type": "code",
   "execution_count": 5,
   "id": "current-determination",
   "metadata": {},
   "outputs": [
    {
     "name": "stdout",
     "output_type": "stream",
     "text": [
      "1271\n"
     ]
    }
   ],
   "source": [
    "x = df['stationnumber']\n",
    "print(len(set(x.values.tolist())))"
   ]
  },
  {
   "cell_type": "code",
   "execution_count": 8,
   "id": "stuck-status",
   "metadata": {},
   "outputs": [],
   "source": [
    "# Excel file plucked out of the internet to calculate total amount of bahnhofs in germany. (approxiametely 5403 from january)\n",
    "# data available publicly here: https://www.deutschebahn.com/resource/blob/8889522/1d8184af7653d198d256ce2ce2403fae/Stationspreisliste-2023-data.pdf\n",
    "df2=pd.read_excel('Station_data.xlsx')\n",
    "selected = df2[['Bf-Nr','Bahnhof']]\n",
    "numbertobahn = dict(selected.to_dict('split')['data'])"
   ]
  },
  {
   "cell_type": "code",
   "execution_count": 9,
   "id": "controlling-officer",
   "metadata": {},
   "outputs": [
    {
     "name": "stdout",
     "output_type": "stream",
     "text": [
      "0.657227466222469\n"
     ]
    }
   ],
   "source": [
    "#x= total number of train stations with facilities(functioning w/ non-functioning)\n",
    "x = len(df['stationnumber'])/len(numbertobahn)\n",
    "print(x) #percentage of DB train stations with facilities"
   ]
  },
  {
   "cell_type": "code",
   "execution_count": 11,
   "id": "fourth-executive",
   "metadata": {},
   "outputs": [
    {
     "name": "stdout",
     "output_type": "stream",
     "text": [
      "3551\n"
     ]
    }
   ],
   "source": [
    "x = len(df)#total number of facilities\n",
    "y = df['']\n",
    "print(y)"
   ]
  },
  {
   "cell_type": "code",
   "execution_count": null,
   "id": "stopped-bosnia",
   "metadata": {},
   "outputs": [],
   "source": []
  }
 ],
 "metadata": {
  "kernelspec": {
   "display_name": "Python 3",
   "language": "python",
   "name": "python3"
  },
  "language_info": {
   "codemirror_mode": {
    "name": "ipython",
    "version": 3
   },
   "file_extension": ".py",
   "mimetype": "text/x-python",
   "name": "python",
   "nbconvert_exporter": "python",
   "pygments_lexer": "ipython3",
   "version": "3.9.0"
  }
 },
 "nbformat": 4,
 "nbformat_minor": 5
}
